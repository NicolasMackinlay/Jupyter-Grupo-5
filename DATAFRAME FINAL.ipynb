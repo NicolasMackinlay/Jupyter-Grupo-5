{
 "cells": [
  {
   "cell_type": "markdown",
   "metadata": {},
   "source": [
    "Proyecto Properati - Grupo 5"
   ]
  },
  {
   "cell_type": "markdown",
   "metadata": {},
   "source": [
    "Importamos las librerias Pandas y Numpy. Las renombramos con las siglas 'pd' y 'np' respectivamente.\n",
    "\n",
    "Descargamos el archivo. Al estar en CSV usamos la funcion de pandas `pd.read_csv`, y lo asociamos a la variable 'data'"
   ]
  },
  {
   "cell_type": "code",
   "execution_count": 68,
   "metadata": {},
   "outputs": [],
   "source": [
    "import pandas as pd\n",
    "import numpy as np"
   ]
  },
  {
   "cell_type": "code",
   "execution_count": 69,
   "metadata": {},
   "outputs": [],
   "source": [
    "# local:\n",
    "data_location = \"../Proyecto/properati (1).csv\"\n",
    "\n",
    "\n",
    "data = pd.read_csv(data_location, sep=\",\", encoding=\"latin1\")\n",
    "\n",
    "df = pd.read_csv(data_location, sep=\",\", encoding=\"latin1\")"
   ]
  },
  {
   "cell_type": "markdown",
   "metadata": {},
   "source": [
    "Obtenemos informacion del dataframe obtenido. \n",
    "\n",
    "Chequiamos cantidad de nulos y la proporcion de nulos de cada campo del total de filas."
   ]
  },
  {
   "cell_type": "code",
   "execution_count": 70,
   "metadata": {},
   "outputs": [
    {
     "name": "stdout",
     "output_type": "stream",
     "text": [
      "Cantidad de Columnas del DataFrame: 26\n",
      "Cantidad de Filas del DataFrame: 121220\n"
     ]
    }
   ],
   "source": [
    "print('Cantidad de Columnas del DataFrame: ' + str(data.shape[1]))\n",
    "print('Cantidad de Filas del DataFrame: ' + str(data.shape[0]))"
   ]
  },
  {
   "cell_type": "code",
   "execution_count": 71,
   "metadata": {},
   "outputs": [
    {
     "data": {
      "text/html": [
       "<div>\n",
       "<style scoped>\n",
       "    .dataframe tbody tr th:only-of-type {\n",
       "        vertical-align: middle;\n",
       "    }\n",
       "\n",
       "    .dataframe tbody tr th {\n",
       "        vertical-align: top;\n",
       "    }\n",
       "\n",
       "    .dataframe thead th {\n",
       "        text-align: right;\n",
       "    }\n",
       "</style>\n",
       "<table border=\"1\" class=\"dataframe\">\n",
       "  <thead>\n",
       "    <tr style=\"text-align: right;\">\n",
       "      <th></th>\n",
       "      <th>Unnamed: 0</th>\n",
       "      <th>operation</th>\n",
       "      <th>property_type</th>\n",
       "      <th>place_name</th>\n",
       "      <th>place_with_parent_names</th>\n",
       "      <th>country_name</th>\n",
       "      <th>state_name</th>\n",
       "      <th>geonames_id</th>\n",
       "      <th>lat-lon</th>\n",
       "      <th>lat</th>\n",
       "      <th>...</th>\n",
       "      <th>surface_covered_in_m2</th>\n",
       "      <th>price_usd_per_m2</th>\n",
       "      <th>price_per_m2</th>\n",
       "      <th>floor</th>\n",
       "      <th>rooms</th>\n",
       "      <th>expenses</th>\n",
       "      <th>properati_url</th>\n",
       "      <th>description</th>\n",
       "      <th>title</th>\n",
       "      <th>image_thumbnail</th>\n",
       "    </tr>\n",
       "  </thead>\n",
       "  <tbody>\n",
       "    <tr>\n",
       "      <th>0</th>\n",
       "      <td>0</td>\n",
       "      <td>sell</td>\n",
       "      <td>PH</td>\n",
       "      <td>Mataderos</td>\n",
       "      <td>|Argentina|Capital Federal|Mataderos|</td>\n",
       "      <td>Argentina</td>\n",
       "      <td>Capital Federal</td>\n",
       "      <td>3430787.0</td>\n",
       "      <td>-34.6618237,-58.5088387</td>\n",
       "      <td>-34.661824</td>\n",
       "      <td>...</td>\n",
       "      <td>40.0</td>\n",
       "      <td>1127.272727</td>\n",
       "      <td>1550.000000</td>\n",
       "      <td>NaN</td>\n",
       "      <td>NaN</td>\n",
       "      <td>NaN</td>\n",
       "      <td>http://www.properati.com.ar/15bo8_venta_ph_mat...</td>\n",
       "      <td>2 AMBIENTES TIPO CASA PLANTA BAJA POR PASILLO,...</td>\n",
       "      <td>2 AMB TIPO CASA SIN EXPENSAS EN PB</td>\n",
       "      <td>https://thumbs4.properati.com/8/BluUYiHJLhgIIK...</td>\n",
       "    </tr>\n",
       "    <tr>\n",
       "      <th>1</th>\n",
       "      <td>1</td>\n",
       "      <td>sell</td>\n",
       "      <td>apartment</td>\n",
       "      <td>La Plata</td>\n",
       "      <td>|Argentina|Bs.As. G.B.A. Zona Sur|La Plata|</td>\n",
       "      <td>Argentina</td>\n",
       "      <td>Bs.As. G.B.A. Zona Sur</td>\n",
       "      <td>3432039.0</td>\n",
       "      <td>-34.9038831,-57.9643295</td>\n",
       "      <td>-34.903883</td>\n",
       "      <td>...</td>\n",
       "      <td>NaN</td>\n",
       "      <td>NaN</td>\n",
       "      <td>NaN</td>\n",
       "      <td>NaN</td>\n",
       "      <td>NaN</td>\n",
       "      <td>NaN</td>\n",
       "      <td>http://www.properati.com.ar/15bob_venta_depart...</td>\n",
       "      <td>Venta de departamento en dÃ©cimo piso al frent...</td>\n",
       "      <td>VENTA Depto 2 dorm. a estrenar 7 e/ 36 y 37   ...</td>\n",
       "      <td>https://thumbs4.properati.com/7/ikpVBu2ztHA7jv...</td>\n",
       "    </tr>\n",
       "    <tr>\n",
       "      <th>2</th>\n",
       "      <td>2</td>\n",
       "      <td>sell</td>\n",
       "      <td>apartment</td>\n",
       "      <td>Mataderos</td>\n",
       "      <td>|Argentina|Capital Federal|Mataderos|</td>\n",
       "      <td>Argentina</td>\n",
       "      <td>Capital Federal</td>\n",
       "      <td>3430787.0</td>\n",
       "      <td>-34.6522615,-58.5229825</td>\n",
       "      <td>-34.652262</td>\n",
       "      <td>...</td>\n",
       "      <td>55.0</td>\n",
       "      <td>1309.090909</td>\n",
       "      <td>1309.090909</td>\n",
       "      <td>NaN</td>\n",
       "      <td>NaN</td>\n",
       "      <td>NaN</td>\n",
       "      <td>http://www.properati.com.ar/15bod_venta_depart...</td>\n",
       "      <td>2 AMBIENTES 3ER PISO LATERAL LIVING COMEDOR AM...</td>\n",
       "      <td>2 AMB 3ER PISO CON ASCENSOR APTO CREDITO</td>\n",
       "      <td>https://thumbs4.properati.com/5/SXKr34F_IwG3W_...</td>\n",
       "    </tr>\n",
       "    <tr>\n",
       "      <th>3</th>\n",
       "      <td>3</td>\n",
       "      <td>sell</td>\n",
       "      <td>PH</td>\n",
       "      <td>Liniers</td>\n",
       "      <td>|Argentina|Capital Federal|Liniers|</td>\n",
       "      <td>Argentina</td>\n",
       "      <td>Capital Federal</td>\n",
       "      <td>3431333.0</td>\n",
       "      <td>-34.6477969,-58.5164244</td>\n",
       "      <td>-34.647797</td>\n",
       "      <td>...</td>\n",
       "      <td>NaN</td>\n",
       "      <td>NaN</td>\n",
       "      <td>NaN</td>\n",
       "      <td>NaN</td>\n",
       "      <td>NaN</td>\n",
       "      <td>NaN</td>\n",
       "      <td>http://www.properati.com.ar/15boh_venta_ph_lin...</td>\n",
       "      <td>PH 3 ambientes con patio. Hay 3 deptos en lote...</td>\n",
       "      <td>PH 3 amb. cfte. reciclado</td>\n",
       "      <td>https://thumbs4.properati.com/3/DgIfX-85Mog5SP...</td>\n",
       "    </tr>\n",
       "    <tr>\n",
       "      <th>4</th>\n",
       "      <td>4</td>\n",
       "      <td>sell</td>\n",
       "      <td>apartment</td>\n",
       "      <td>Centro</td>\n",
       "      <td>|Argentina|Buenos Aires Costa AtlÃ¡ntica|Mar d...</td>\n",
       "      <td>Argentina</td>\n",
       "      <td>Buenos Aires Costa AtlÃ¡ntica</td>\n",
       "      <td>3435548.0</td>\n",
       "      <td>-38.0026256,-57.5494468</td>\n",
       "      <td>-38.002626</td>\n",
       "      <td>...</td>\n",
       "      <td>35.0</td>\n",
       "      <td>1828.571429</td>\n",
       "      <td>1828.571429</td>\n",
       "      <td>NaN</td>\n",
       "      <td>NaN</td>\n",
       "      <td>NaN</td>\n",
       "      <td>http://www.properati.com.ar/15bok_venta_depart...</td>\n",
       "      <td>DEPARTAMENTO CON FANTÃSTICA ILUMINACIÃN NATU...</td>\n",
       "      <td>DEPTO 2 AMB AL CONTRAFRENTE ZONA CENTRO/PLAZA ...</td>\n",
       "      <td>https://thumbs4.properati.com/5/xrRqlNcSI_vs-f...</td>\n",
       "    </tr>\n",
       "  </tbody>\n",
       "</table>\n",
       "<p>5 rows × 26 columns</p>\n",
       "</div>"
      ],
      "text/plain": [
       "   Unnamed: 0 operation property_type place_name  \\\n",
       "0           0      sell            PH  Mataderos   \n",
       "1           1      sell     apartment   La Plata   \n",
       "2           2      sell     apartment  Mataderos   \n",
       "3           3      sell            PH    Liniers   \n",
       "4           4      sell     apartment     Centro   \n",
       "\n",
       "                             place_with_parent_names country_name  \\\n",
       "0              |Argentina|Capital Federal|Mataderos|    Argentina   \n",
       "1        |Argentina|Bs.As. G.B.A. Zona Sur|La Plata|    Argentina   \n",
       "2              |Argentina|Capital Federal|Mataderos|    Argentina   \n",
       "3                |Argentina|Capital Federal|Liniers|    Argentina   \n",
       "4  |Argentina|Buenos Aires Costa AtlÃ¡ntica|Mar d...    Argentina   \n",
       "\n",
       "                      state_name  geonames_id                  lat-lon  \\\n",
       "0                Capital Federal    3430787.0  -34.6618237,-58.5088387   \n",
       "1         Bs.As. G.B.A. Zona Sur    3432039.0  -34.9038831,-57.9643295   \n",
       "2                Capital Federal    3430787.0  -34.6522615,-58.5229825   \n",
       "3                Capital Federal    3431333.0  -34.6477969,-58.5164244   \n",
       "4  Buenos Aires Costa AtlÃ¡ntica    3435548.0  -38.0026256,-57.5494468   \n",
       "\n",
       "         lat  ...  surface_covered_in_m2  price_usd_per_m2 price_per_m2  \\\n",
       "0 -34.661824  ...                   40.0       1127.272727  1550.000000   \n",
       "1 -34.903883  ...                    NaN               NaN          NaN   \n",
       "2 -34.652262  ...                   55.0       1309.090909  1309.090909   \n",
       "3 -34.647797  ...                    NaN               NaN          NaN   \n",
       "4 -38.002626  ...                   35.0       1828.571429  1828.571429   \n",
       "\n",
       "   floor  rooms  expenses                                      properati_url  \\\n",
       "0    NaN    NaN       NaN  http://www.properati.com.ar/15bo8_venta_ph_mat...   \n",
       "1    NaN    NaN       NaN  http://www.properati.com.ar/15bob_venta_depart...   \n",
       "2    NaN    NaN       NaN  http://www.properati.com.ar/15bod_venta_depart...   \n",
       "3    NaN    NaN       NaN  http://www.properati.com.ar/15boh_venta_ph_lin...   \n",
       "4    NaN    NaN       NaN  http://www.properati.com.ar/15bok_venta_depart...   \n",
       "\n",
       "                                         description  \\\n",
       "0  2 AMBIENTES TIPO CASA PLANTA BAJA POR PASILLO,...   \n",
       "1  Venta de departamento en dÃ©cimo piso al frent...   \n",
       "2  2 AMBIENTES 3ER PISO LATERAL LIVING COMEDOR AM...   \n",
       "3  PH 3 ambientes con patio. Hay 3 deptos en lote...   \n",
       "4  DEPARTAMENTO CON FANTÃSTICA ILUMINACIÃN NATU...   \n",
       "\n",
       "                                               title  \\\n",
       "0                 2 AMB TIPO CASA SIN EXPENSAS EN PB   \n",
       "1  VENTA Depto 2 dorm. a estrenar 7 e/ 36 y 37   ...   \n",
       "2           2 AMB 3ER PISO CON ASCENSOR APTO CREDITO   \n",
       "3                       PH 3 amb. cfte. reciclado      \n",
       "4  DEPTO 2 AMB AL CONTRAFRENTE ZONA CENTRO/PLAZA ...   \n",
       "\n",
       "                                     image_thumbnail  \n",
       "0  https://thumbs4.properati.com/8/BluUYiHJLhgIIK...  \n",
       "1  https://thumbs4.properati.com/7/ikpVBu2ztHA7jv...  \n",
       "2  https://thumbs4.properati.com/5/SXKr34F_IwG3W_...  \n",
       "3  https://thumbs4.properati.com/3/DgIfX-85Mog5SP...  \n",
       "4  https://thumbs4.properati.com/5/xrRqlNcSI_vs-f...  \n",
       "\n",
       "[5 rows x 26 columns]"
      ]
     },
     "execution_count": 71,
     "metadata": {},
     "output_type": "execute_result"
    }
   ],
   "source": [
    "data.head()"
   ]
  },
  {
   "cell_type": "code",
   "execution_count": 72,
   "metadata": {},
   "outputs": [
    {
     "data": {
      "text/plain": [
       "Unnamed: 0                         0\n",
       "operation                          0\n",
       "property_type                      0\n",
       "place_name                        23\n",
       "place_with_parent_names            0\n",
       "country_name                       0\n",
       "state_name                         0\n",
       "geonames_id                    18717\n",
       "lat-lon                        51550\n",
       "lat                            51550\n",
       "lon                            51550\n",
       "price                          20410\n",
       "currency                       20411\n",
       "price_aprox_local_currency     20410\n",
       "price_aprox_usd                20410\n",
       "surface_total_in_m2            39328\n",
       "surface_covered_in_m2          19907\n",
       "price_usd_per_m2               52603\n",
       "price_per_m2                   33562\n",
       "floor                         113321\n",
       "rooms                          73830\n",
       "expenses                      106958\n",
       "properati_url                      0\n",
       "description                        2\n",
       "title                              0\n",
       "image_thumbnail                 3112\n",
       "dtype: int64"
      ]
     },
     "execution_count": 72,
     "metadata": {},
     "output_type": "execute_result"
    }
   ],
   "source": [
    "data.isnull().sum()   # cantidad de nulos por campo"
   ]
  },
  {
   "cell_type": "code",
   "execution_count": 73,
   "metadata": {
    "scrolled": false
   },
   "outputs": [
    {
     "data": {
      "text/plain": [
       "Unnamed: 0                     0.000000\n",
       "operation                      0.000000\n",
       "property_type                  0.000000\n",
       "place_name                     0.018974\n",
       "place_with_parent_names        0.000000\n",
       "country_name                   0.000000\n",
       "state_name                     0.000000\n",
       "geonames_id                   15.440521\n",
       "lat-lon                       42.525986\n",
       "lat                           42.525986\n",
       "lon                           42.525986\n",
       "price                         16.837156\n",
       "currency                      16.837981\n",
       "price_aprox_local_currency    16.837156\n",
       "price_aprox_usd               16.837156\n",
       "surface_total_in_m2           32.443491\n",
       "surface_covered_in_m2         16.422208\n",
       "price_usd_per_m2              43.394654\n",
       "price_per_m2                  27.686850\n",
       "floor                         93.483749\n",
       "rooms                         60.905791\n",
       "expenses                      88.234615\n",
       "properati_url                  0.000000\n",
       "description                    0.001650\n",
       "title                          0.000000\n",
       "image_thumbnail                2.567233\n",
       "dtype: float64"
      ]
     },
     "execution_count": 73,
     "metadata": {},
     "output_type": "execute_result"
    }
   ],
   "source": [
    "data.isnull().sum() / data.shape[0] *100    # porcentaje de nulos sobre el total de datos por campo"
   ]
  },
  {
   "cell_type": "code",
   "execution_count": 74,
   "metadata": {},
   "outputs": [
    {
     "data": {
      "text/html": [
       "<div>\n",
       "<style scoped>\n",
       "    .dataframe tbody tr th:only-of-type {\n",
       "        vertical-align: middle;\n",
       "    }\n",
       "\n",
       "    .dataframe tbody tr th {\n",
       "        vertical-align: top;\n",
       "    }\n",
       "\n",
       "    .dataframe thead th {\n",
       "        text-align: right;\n",
       "    }\n",
       "</style>\n",
       "<table border=\"1\" class=\"dataframe\">\n",
       "  <thead>\n",
       "    <tr style=\"text-align: right;\">\n",
       "      <th></th>\n",
       "      <th>surface_total_in_m2</th>\n",
       "      <th>surface_covered_in_m2</th>\n",
       "    </tr>\n",
       "  </thead>\n",
       "  <tbody>\n",
       "    <tr>\n",
       "      <th>0</th>\n",
       "      <td>55.0</td>\n",
       "      <td>40.0</td>\n",
       "    </tr>\n",
       "    <tr>\n",
       "      <th>1</th>\n",
       "      <td>NaN</td>\n",
       "      <td>NaN</td>\n",
       "    </tr>\n",
       "    <tr>\n",
       "      <th>2</th>\n",
       "      <td>55.0</td>\n",
       "      <td>55.0</td>\n",
       "    </tr>\n",
       "    <tr>\n",
       "      <th>3</th>\n",
       "      <td>NaN</td>\n",
       "      <td>NaN</td>\n",
       "    </tr>\n",
       "    <tr>\n",
       "      <th>4</th>\n",
       "      <td>35.0</td>\n",
       "      <td>35.0</td>\n",
       "    </tr>\n",
       "    <tr>\n",
       "      <th>...</th>\n",
       "      <td>...</td>\n",
       "      <td>...</td>\n",
       "    </tr>\n",
       "    <tr>\n",
       "      <th>121215</th>\n",
       "      <td>113.0</td>\n",
       "      <td>93.0</td>\n",
       "    </tr>\n",
       "    <tr>\n",
       "      <th>121216</th>\n",
       "      <td>360.0</td>\n",
       "      <td>360.0</td>\n",
       "    </tr>\n",
       "    <tr>\n",
       "      <th>121217</th>\n",
       "      <td>46.0</td>\n",
       "      <td>39.0</td>\n",
       "    </tr>\n",
       "    <tr>\n",
       "      <th>121218</th>\n",
       "      <td>48.0</td>\n",
       "      <td>48.0</td>\n",
       "    </tr>\n",
       "    <tr>\n",
       "      <th>121219</th>\n",
       "      <td>77.0</td>\n",
       "      <td>77.0</td>\n",
       "    </tr>\n",
       "  </tbody>\n",
       "</table>\n",
       "<p>121220 rows × 2 columns</p>\n",
       "</div>"
      ],
      "text/plain": [
       "        surface_total_in_m2  surface_covered_in_m2\n",
       "0                      55.0                   40.0\n",
       "1                       NaN                    NaN\n",
       "2                      55.0                   55.0\n",
       "3                       NaN                    NaN\n",
       "4                      35.0                   35.0\n",
       "...                     ...                    ...\n",
       "121215                113.0                   93.0\n",
       "121216                360.0                  360.0\n",
       "121217                 46.0                   39.0\n",
       "121218                 48.0                   48.0\n",
       "121219                 77.0                   77.0\n",
       "\n",
       "[121220 rows x 2 columns]"
      ]
     },
     "execution_count": 74,
     "metadata": {},
     "output_type": "execute_result"
    }
   ],
   "source": [
    "data2 = data.loc[: , ['surface_total_in_m2' , 'surface_covered_in_m2']]\n",
    "data2"
   ]
  },
  {
   "cell_type": "markdown",
   "metadata": {},
   "source": [
    " El objetivo de nuestra limpieza sera reducir las cantidad de registros nulos, a partir de deducciones logicas, tomando los campos surface_total_in_m2(1) y surface_covered_in_m2(2) para luego generar una tercer columna llamada surface_total_clean(3).\n",
    " \n",
    " Nuesto dominio de posibilidades y acciones se resume con la siguiente logica:\n",
    "\n",
    "•\tSi surface_total_in_m2 = NaN y surface_covered_in_m2 = NaN ---> surface_total_clean = NaN\n",
    "\n",
    "•\tSi surface_total_in_m2 = NaN y surface_covered_in_m2 = Value ---> surface_total_clean = 2\n",
    "\n",
    "•\tSi surface_total_in_m2 = Value y surface_covered_in_m2 = NaN ---> surface_total_clean = surface_total_in_m2\n",
    "\n",
    "•\tSi surface_total_in_m2 = Value y surface_covered_in_m2 = Value:\n",
    "\n",
    "            o\tSi surface_total_in_m2 < surface_covered_in_m2 ---> BORRAR\n",
    "            o\tSi surface_total_in_m2 > surface_covered_in_m2 ---> surface_total_clean = surface_total_in_m2\n",
    "            o\tSi surface_total_in_m2 = surface_covered_in_m2 ---> surface_total_clean = surface_total_in_m2\n",
    "\n",
    " \n",
    " \n",
    "Para comenzar hacemos un analisis mas exhaustivo acerca de los campos que queremos limpiar."
   ]
  },
  {
   "cell_type": "code",
   "execution_count": 75,
   "metadata": {},
   "outputs": [
    {
     "name": "stdout",
     "output_type": "stream",
     "text": [
      "Total Nulos en surface_total_in_m2:  39328\n",
      "Total Nulos en surface_covered_in_m2:  19907\n",
      "Cantidad de Filas:  121220\n",
      "Porcentaje de nulos en surface_total_in_m2:  32.44\n",
      "Porcentaje de nulos en surface_covered_in_m2:  16.42\n"
     ]
    }
   ],
   "source": [
    "print(\"Total Nulos en surface_total_in_m2: \", str(data2.surface_total_in_m2.isnull().sum()))\n",
    "print(\"Total Nulos en surface_covered_in_m2: \", str(data2.surface_covered_in_m2.isnull().sum()))\n",
    "\n",
    "print('Cantidad de Filas: ', str(data2.shape[0]))\n",
    "\n",
    "print(\"Porcentaje de nulos en surface_total_in_m2: \", str(round(data2.surface_total_in_m2.isnull().sum() / data2.shape[0] * 100,ndigits=2)) )\n",
    "print(\"Porcentaje de nulos en surface_covered_in_m2: \", str(round(data2.surface_covered_in_m2.isnull().sum() / data2.shape[0] * 100,ndigits=2)) )           "
   ]
  },
  {
   "cell_type": "markdown",
   "metadata": {},
   "source": [
    "Realizamos las mascaras booleanas que nos permitiran cumplir con nuestra logica enunciada."
   ]
  },
  {
   "cell_type": "code",
   "execution_count": 76,
   "metadata": {},
   "outputs": [],
   "source": [
    "#mascaras booleanas\n",
    "mask_NaN1 = data2.surface_total_in_m2.isnull()\n",
    "mask_NaN2 = data2.surface_covered_in_m2.isnull()\n",
    "mask_value1 = data2.surface_total_in_m2.notnull()\n",
    "mask_value2 = data2.surface_covered_in_m2.notnull()\n",
    "mask_NaN1y2 = data2.isnull()\n",
    "mask_value1_NaN2 = pd.DataFrame({'surface_total_in_m2': mask_value1,'surface_covered_in_m2':mask_NaN2})\n",
    "mask_NaN1_value2 = pd.DataFrame({'surface_total_in_m2': mask_NaN1,'surface_covered_in_m2':mask_value2})\n",
    "mask_value1_value2 = pd.DataFrame({'surface_total_in_m2': mask_value1,'surface_covered_in_m2':mask_value2})\n",
    "#series que usaremos luego\n",
    "clm1 = data['surface_total_in_m2']\n",
    "clm2 = data['surface_covered_in_m2']"
   ]
  },
  {
   "cell_type": "code",
   "execution_count": 77,
   "metadata": {},
   "outputs": [
    {
     "data": {
      "text/plain": [
       "12369"
      ]
     },
     "execution_count": 77,
     "metadata": {},
     "output_type": "execute_result"
    }
   ],
   "source": [
    "# tanto 1 como 2 son NaN\n",
    "NaN_1y2 = mask_NaN1y2.all(axis = 1)\n",
    "NaN_1y2.sum()\n",
    "# debo asignar NaN a todos los True"
   ]
  },
  {
   "cell_type": "code",
   "execution_count": 78,
   "metadata": {},
   "outputs": [
    {
     "data": {
      "text/plain": [
       "7538"
      ]
     },
     "execution_count": 78,
     "metadata": {},
     "output_type": "execute_result"
    }
   ],
   "source": [
    "#1 es Value y 2 es NaN\n",
    "Value1_NaN2 = mask_value1_NaN2.all(axis = 1)\n",
    "Value1_NaN2.sum()\n",
    "#debo debo asignar el value de 1 a la columna 3"
   ]
  },
  {
   "cell_type": "code",
   "execution_count": 79,
   "metadata": {},
   "outputs": [
    {
     "data": {
      "text/plain": [
       "26959"
      ]
     },
     "execution_count": 79,
     "metadata": {},
     "output_type": "execute_result"
    }
   ],
   "source": [
    "# 1 es NaN y 2 es Value\n",
    "NaN1_Value2 = mask_NaN1_value2.all(axis = 1)\n",
    "NaN1_Value2.sum()\n",
    "#debo asignar el value de 2 a la columna 3"
   ]
  },
  {
   "cell_type": "code",
   "execution_count": 80,
   "metadata": {},
   "outputs": [
    {
     "name": "stdout",
     "output_type": "stream",
     "text": [
      "49075\n",
      "1106\n",
      "24173\n"
     ]
    }
   ],
   "source": [
    "# Tanto 1 como 2 son Value\n",
    "mask_value1_value2.all(axis = 1).sum()\n",
    "    # si 1>2 --> 3 = 1\n",
    "mask_1mayor2 = data2.surface_total_in_m2 > data2.surface_covered_in_m2\n",
    "print(mask_1mayor2.sum())\n",
    "    # si 1<2 --> 3 = VER\n",
    "mask_1menor2 = data2.surface_total_in_m2 < data2.surface_covered_in_m2\n",
    "print(mask_1menor2.sum())\n",
    "    #si 1 = 2 --> 3 = 1\n",
    "mask_1igual2 = data2.surface_total_in_m2 == data2.surface_covered_in_m2\n",
    "print(mask_1igual2.sum())"
   ]
  },
  {
   "cell_type": "code",
   "execution_count": 81,
   "metadata": {},
   "outputs": [
    {
     "data": {
      "text/html": [
       "<div>\n",
       "<style scoped>\n",
       "    .dataframe tbody tr th:only-of-type {\n",
       "        vertical-align: middle;\n",
       "    }\n",
       "\n",
       "    .dataframe tbody tr th {\n",
       "        vertical-align: top;\n",
       "    }\n",
       "\n",
       "    .dataframe thead th {\n",
       "        text-align: right;\n",
       "    }\n",
       "</style>\n",
       "<table border=\"1\" class=\"dataframe\">\n",
       "  <thead>\n",
       "    <tr style=\"text-align: right;\">\n",
       "      <th></th>\n",
       "      <th>surface_total_in_m2</th>\n",
       "      <th>surface_covered_in_m2</th>\n",
       "      <th>NaN_1y2</th>\n",
       "      <th>Value1_NaN2</th>\n",
       "      <th>NaN1_Value2</th>\n",
       "      <th>mask_1mayor2</th>\n",
       "      <th>mask_1menor2</th>\n",
       "      <th>mask_1igual2</th>\n",
       "    </tr>\n",
       "  </thead>\n",
       "  <tbody>\n",
       "    <tr>\n",
       "      <th>0</th>\n",
       "      <td>55.0</td>\n",
       "      <td>40.0</td>\n",
       "      <td>False</td>\n",
       "      <td>False</td>\n",
       "      <td>False</td>\n",
       "      <td>True</td>\n",
       "      <td>False</td>\n",
       "      <td>False</td>\n",
       "    </tr>\n",
       "    <tr>\n",
       "      <th>1</th>\n",
       "      <td>NaN</td>\n",
       "      <td>NaN</td>\n",
       "      <td>True</td>\n",
       "      <td>False</td>\n",
       "      <td>False</td>\n",
       "      <td>False</td>\n",
       "      <td>False</td>\n",
       "      <td>False</td>\n",
       "    </tr>\n",
       "    <tr>\n",
       "      <th>2</th>\n",
       "      <td>55.0</td>\n",
       "      <td>55.0</td>\n",
       "      <td>False</td>\n",
       "      <td>False</td>\n",
       "      <td>False</td>\n",
       "      <td>False</td>\n",
       "      <td>False</td>\n",
       "      <td>True</td>\n",
       "    </tr>\n",
       "    <tr>\n",
       "      <th>3</th>\n",
       "      <td>NaN</td>\n",
       "      <td>NaN</td>\n",
       "      <td>True</td>\n",
       "      <td>False</td>\n",
       "      <td>False</td>\n",
       "      <td>False</td>\n",
       "      <td>False</td>\n",
       "      <td>False</td>\n",
       "    </tr>\n",
       "    <tr>\n",
       "      <th>4</th>\n",
       "      <td>35.0</td>\n",
       "      <td>35.0</td>\n",
       "      <td>False</td>\n",
       "      <td>False</td>\n",
       "      <td>False</td>\n",
       "      <td>False</td>\n",
       "      <td>False</td>\n",
       "      <td>True</td>\n",
       "    </tr>\n",
       "  </tbody>\n",
       "</table>\n",
       "</div>"
      ],
      "text/plain": [
       "   surface_total_in_m2  surface_covered_in_m2  NaN_1y2  Value1_NaN2  \\\n",
       "0                 55.0                   40.0    False        False   \n",
       "1                  NaN                    NaN     True        False   \n",
       "2                 55.0                   55.0    False        False   \n",
       "3                  NaN                    NaN     True        False   \n",
       "4                 35.0                   35.0    False        False   \n",
       "\n",
       "   NaN1_Value2  mask_1mayor2  mask_1menor2  mask_1igual2  \n",
       "0        False          True         False         False  \n",
       "1        False         False         False         False  \n",
       "2        False         False         False          True  \n",
       "3        False         False         False         False  \n",
       "4        False         False         False          True  "
      ]
     },
     "execution_count": 81,
     "metadata": {},
     "output_type": "execute_result"
    }
   ],
   "source": [
    "data3  = pd.DataFrame({'surface_total_in_m2': clm1,'surface_covered_in_m2':clm2,'NaN_1y2':NaN_1y2,'Value1_NaN2':Value1_NaN2,'NaN1_Value2':NaN1_Value2,'mask_1mayor2':mask_1mayor2,'mask_1menor2': mask_1menor2,'mask_1igual2':mask_1igual2})\n",
    "data3.head()"
   ]
  },
  {
   "cell_type": "code",
   "execution_count": 82,
   "metadata": {},
   "outputs": [],
   "source": [
    "serie1 = data3.apply(lambda x: x['surface_total_in_m2'] if x['NaN_1y2'] else \"\" , axis = 1)\n",
    "\n",
    "serie2 = data3.apply(lambda x: x['surface_total_in_m2'] if x['Value1_NaN2'] else \"\" , axis = 1)\n",
    "\n",
    "serie3 = data3.apply(lambda x: x['surface_covered_in_m2'] if x['NaN1_Value2'] else \"\" , axis = 1)\n",
    "\n",
    "serie4 = data3.apply(lambda x: x['surface_total_in_m2'] if x['mask_1mayor2'] else \"\" , axis = 1)\n",
    "\n",
    "serie5 = data3.apply(lambda x: \"BORRAR\" if x['mask_1menor2'] else \"\" , axis = 1)\n",
    "\n",
    "serie6 = data3.apply(lambda x: x['surface_total_in_m2'] if x['mask_1igual2'] else \"\" , axis = 1)\n"
   ]
  },
  {
   "cell_type": "code",
   "execution_count": 83,
   "metadata": {},
   "outputs": [],
   "source": [
    "data4 = pd.concat([serie1,serie2,serie3,serie4,serie5,serie6],axis = 1)"
   ]
  },
  {
   "cell_type": "code",
   "execution_count": 84,
   "metadata": {},
   "outputs": [],
   "source": [
    "data5 = data4.to_numpy().flatten()\n",
    "data6 = pd.DataFrame(data5[data5 != \"\"], columns=['surface_total_clean'])"
   ]
  },
  {
   "cell_type": "code",
   "execution_count": 85,
   "metadata": {},
   "outputs": [
    {
     "name": "stdout",
     "output_type": "stream",
     "text": [
      "(121220, 26)\n",
      "(121220, 1)\n"
     ]
    }
   ],
   "source": [
    "print(data.shape)\n",
    "print(data6.shape)"
   ]
  },
  {
   "cell_type": "code",
   "execution_count": 86,
   "metadata": {},
   "outputs": [
    {
     "data": {
      "text/plain": [
       "Unnamed: 0                     0.000000\n",
       "operation                      0.000000\n",
       "property_type                  0.000000\n",
       "place_name                     0.018974\n",
       "place_with_parent_names        0.000000\n",
       "country_name                   0.000000\n",
       "state_name                     0.000000\n",
       "geonames_id                   15.440521\n",
       "lat-lon                       42.525986\n",
       "lat                           42.525986\n",
       "lon                           42.525986\n",
       "price                         16.837156\n",
       "currency                      16.837981\n",
       "price_aprox_local_currency    16.837156\n",
       "price_aprox_usd               16.837156\n",
       "surface_total_in_m2           32.443491\n",
       "surface_covered_in_m2         16.422208\n",
       "price_usd_per_m2              43.394654\n",
       "price_per_m2                  27.686850\n",
       "floor                         93.483749\n",
       "rooms                         60.905791\n",
       "expenses                      88.234615\n",
       "properati_url                  0.000000\n",
       "description                    0.001650\n",
       "title                          0.000000\n",
       "image_thumbnail                2.567233\n",
       "surface_total_clean           10.203762\n",
       "dtype: float64"
      ]
     },
     "execution_count": 86,
     "metadata": {},
     "output_type": "execute_result"
    }
   ],
   "source": [
    "data['surface_total_clean'] = data6\n",
    "data.isnull().sum() / data.shape[0] * 100"
   ]
  },
  {
   "cell_type": "code",
   "execution_count": 87,
   "metadata": {},
   "outputs": [],
   "source": [
    "import re\n",
    "nuevadata=data.drop(data.columns[0],axis=1)"
   ]
  },
  {
   "cell_type": "code",
   "execution_count": 88,
   "metadata": {},
   "outputs": [],
   "source": [
    "#Para verificar las lineas nulas\n",
    "#mascara_datos_place_name_nulos=data.place_name.isnull()\n",
    "#print(data.place_name[mascara_datos_place_name_nulos])\n",
    "\n",
    "#Saco las pipes de los costados de cada elemento de la columna\n",
    "nuevadata.place_with_parent_names=nuevadata.place_with_parent_names.apply(lambda x: x.strip('|'))\n",
    "#Convierto cada elemento de la columna en una lista que va a estar separada por los pipes\n",
    "nuevadata.place_with_parent_names=nuevadata.place_with_parent_names.apply(lambda x: x.split('|'))\n",
    "#Uso un apply para reemplazar cada lista generada de la columna por el ultimo elemento de la lista\n",
    "nuevadata.place_with_parent_names=nuevadata.place_with_parent_names.apply(lambda x: x[-1])\n",
    "#Reemplazo los valores de 'place_name' por los valores de 'place_with_parent_names'\n",
    "nuevadata.place_name=nuevadata.place_with_parent_names\n",
    "\n",
    "#Para verificar las linas nulas cambiadas\n",
    "#print(data.place_name[mascara_datos_place_name_nulos])\n"
   ]
  },
  {
   "cell_type": "code",
   "execution_count": 89,
   "metadata": {},
   "outputs": [
    {
     "data": {
      "text/html": [
       "<div>\n",
       "<style scoped>\n",
       "    .dataframe tbody tr th:only-of-type {\n",
       "        vertical-align: middle;\n",
       "    }\n",
       "\n",
       "    .dataframe tbody tr th {\n",
       "        vertical-align: top;\n",
       "    }\n",
       "\n",
       "    .dataframe thead th {\n",
       "        text-align: right;\n",
       "    }\n",
       "</style>\n",
       "<table border=\"1\" class=\"dataframe\">\n",
       "  <thead>\n",
       "    <tr style=\"text-align: right;\">\n",
       "      <th></th>\n",
       "      <th>operation</th>\n",
       "      <th>property_type</th>\n",
       "      <th>place_name</th>\n",
       "      <th>place_with_parent_names</th>\n",
       "      <th>country_name</th>\n",
       "      <th>state_name</th>\n",
       "      <th>geonames_id</th>\n",
       "      <th>lat-lon</th>\n",
       "      <th>lat</th>\n",
       "      <th>lon</th>\n",
       "      <th>...</th>\n",
       "      <th>price_usd_per_m2</th>\n",
       "      <th>price_per_m2</th>\n",
       "      <th>floor</th>\n",
       "      <th>rooms</th>\n",
       "      <th>expenses</th>\n",
       "      <th>properati_url</th>\n",
       "      <th>description</th>\n",
       "      <th>title</th>\n",
       "      <th>image_thumbnail</th>\n",
       "      <th>surface_total_clean</th>\n",
       "    </tr>\n",
       "  </thead>\n",
       "  <tbody>\n",
       "    <tr>\n",
       "      <th>0</th>\n",
       "      <td>sell</td>\n",
       "      <td>PH</td>\n",
       "      <td>Mataderos</td>\n",
       "      <td>Mataderos</td>\n",
       "      <td>Argentina</td>\n",
       "      <td>Capital Federal</td>\n",
       "      <td>3430787.0</td>\n",
       "      <td>-34.6618237,-58.5088387</td>\n",
       "      <td>-34.661824</td>\n",
       "      <td>-58.508839</td>\n",
       "      <td>...</td>\n",
       "      <td>1127.272727</td>\n",
       "      <td>1550.000000</td>\n",
       "      <td>NaN</td>\n",
       "      <td>NaN</td>\n",
       "      <td>NaN</td>\n",
       "      <td>http://www.properati.com.ar/15bo8_venta_ph_mat...</td>\n",
       "      <td>2 AMBIENTES TIPO CASA PLANTA BAJA POR PASILLO,...</td>\n",
       "      <td>2 AMB TIPO CASA SIN EXPENSAS EN PB</td>\n",
       "      <td>https://thumbs4.properati.com/8/BluUYiHJLhgIIK...</td>\n",
       "      <td>55</td>\n",
       "    </tr>\n",
       "    <tr>\n",
       "      <th>1</th>\n",
       "      <td>sell</td>\n",
       "      <td>apartment</td>\n",
       "      <td>La Plata</td>\n",
       "      <td>La Plata</td>\n",
       "      <td>Argentina</td>\n",
       "      <td>Bs.As. G.B.A. Zona Sur</td>\n",
       "      <td>3432039.0</td>\n",
       "      <td>-34.9038831,-57.9643295</td>\n",
       "      <td>-34.903883</td>\n",
       "      <td>-57.964330</td>\n",
       "      <td>...</td>\n",
       "      <td>NaN</td>\n",
       "      <td>NaN</td>\n",
       "      <td>NaN</td>\n",
       "      <td>NaN</td>\n",
       "      <td>NaN</td>\n",
       "      <td>http://www.properati.com.ar/15bob_venta_depart...</td>\n",
       "      <td>Venta de departamento en dÃ©cimo piso al frent...</td>\n",
       "      <td>VENTA Depto 2 dorm. a estrenar 7 e/ 36 y 37   ...</td>\n",
       "      <td>https://thumbs4.properati.com/7/ikpVBu2ztHA7jv...</td>\n",
       "      <td>NaN</td>\n",
       "    </tr>\n",
       "    <tr>\n",
       "      <th>2</th>\n",
       "      <td>sell</td>\n",
       "      <td>apartment</td>\n",
       "      <td>Mataderos</td>\n",
       "      <td>Mataderos</td>\n",
       "      <td>Argentina</td>\n",
       "      <td>Capital Federal</td>\n",
       "      <td>3430787.0</td>\n",
       "      <td>-34.6522615,-58.5229825</td>\n",
       "      <td>-34.652262</td>\n",
       "      <td>-58.522982</td>\n",
       "      <td>...</td>\n",
       "      <td>1309.090909</td>\n",
       "      <td>1309.090909</td>\n",
       "      <td>NaN</td>\n",
       "      <td>NaN</td>\n",
       "      <td>NaN</td>\n",
       "      <td>http://www.properati.com.ar/15bod_venta_depart...</td>\n",
       "      <td>2 AMBIENTES 3ER PISO LATERAL LIVING COMEDOR AM...</td>\n",
       "      <td>2 AMB 3ER PISO CON ASCENSOR APTO CREDITO</td>\n",
       "      <td>https://thumbs4.properati.com/5/SXKr34F_IwG3W_...</td>\n",
       "      <td>55</td>\n",
       "    </tr>\n",
       "    <tr>\n",
       "      <th>3</th>\n",
       "      <td>sell</td>\n",
       "      <td>PH</td>\n",
       "      <td>Liniers</td>\n",
       "      <td>Liniers</td>\n",
       "      <td>Argentina</td>\n",
       "      <td>Capital Federal</td>\n",
       "      <td>3431333.0</td>\n",
       "      <td>-34.6477969,-58.5164244</td>\n",
       "      <td>-34.647797</td>\n",
       "      <td>-58.516424</td>\n",
       "      <td>...</td>\n",
       "      <td>NaN</td>\n",
       "      <td>NaN</td>\n",
       "      <td>NaN</td>\n",
       "      <td>NaN</td>\n",
       "      <td>NaN</td>\n",
       "      <td>http://www.properati.com.ar/15boh_venta_ph_lin...</td>\n",
       "      <td>PH 3 ambientes con patio. Hay 3 deptos en lote...</td>\n",
       "      <td>PH 3 amb. cfte. reciclado</td>\n",
       "      <td>https://thumbs4.properati.com/3/DgIfX-85Mog5SP...</td>\n",
       "      <td>NaN</td>\n",
       "    </tr>\n",
       "    <tr>\n",
       "      <th>4</th>\n",
       "      <td>sell</td>\n",
       "      <td>apartment</td>\n",
       "      <td>Centro</td>\n",
       "      <td>Centro</td>\n",
       "      <td>Argentina</td>\n",
       "      <td>Buenos Aires Costa AtlÃ¡ntica</td>\n",
       "      <td>3435548.0</td>\n",
       "      <td>-38.0026256,-57.5494468</td>\n",
       "      <td>-38.002626</td>\n",
       "      <td>-57.549447</td>\n",
       "      <td>...</td>\n",
       "      <td>1828.571429</td>\n",
       "      <td>1828.571429</td>\n",
       "      <td>NaN</td>\n",
       "      <td>NaN</td>\n",
       "      <td>NaN</td>\n",
       "      <td>http://www.properati.com.ar/15bok_venta_depart...</td>\n",
       "      <td>DEPARTAMENTO CON FANTÃSTICA ILUMINACIÃN NATU...</td>\n",
       "      <td>DEPTO 2 AMB AL CONTRAFRENTE ZONA CENTRO/PLAZA ...</td>\n",
       "      <td>https://thumbs4.properati.com/5/xrRqlNcSI_vs-f...</td>\n",
       "      <td>35</td>\n",
       "    </tr>\n",
       "  </tbody>\n",
       "</table>\n",
       "<p>5 rows × 26 columns</p>\n",
       "</div>"
      ],
      "text/plain": [
       "  operation property_type place_name place_with_parent_names country_name  \\\n",
       "0      sell            PH  Mataderos               Mataderos    Argentina   \n",
       "1      sell     apartment   La Plata                La Plata    Argentina   \n",
       "2      sell     apartment  Mataderos               Mataderos    Argentina   \n",
       "3      sell            PH    Liniers                 Liniers    Argentina   \n",
       "4      sell     apartment     Centro                  Centro    Argentina   \n",
       "\n",
       "                      state_name  geonames_id                  lat-lon  \\\n",
       "0                Capital Federal    3430787.0  -34.6618237,-58.5088387   \n",
       "1         Bs.As. G.B.A. Zona Sur    3432039.0  -34.9038831,-57.9643295   \n",
       "2                Capital Federal    3430787.0  -34.6522615,-58.5229825   \n",
       "3                Capital Federal    3431333.0  -34.6477969,-58.5164244   \n",
       "4  Buenos Aires Costa AtlÃ¡ntica    3435548.0  -38.0026256,-57.5494468   \n",
       "\n",
       "         lat        lon  ...  price_usd_per_m2 price_per_m2  floor  rooms  \\\n",
       "0 -34.661824 -58.508839  ...       1127.272727  1550.000000    NaN    NaN   \n",
       "1 -34.903883 -57.964330  ...               NaN          NaN    NaN    NaN   \n",
       "2 -34.652262 -58.522982  ...       1309.090909  1309.090909    NaN    NaN   \n",
       "3 -34.647797 -58.516424  ...               NaN          NaN    NaN    NaN   \n",
       "4 -38.002626 -57.549447  ...       1828.571429  1828.571429    NaN    NaN   \n",
       "\n",
       "   expenses                                      properati_url  \\\n",
       "0       NaN  http://www.properati.com.ar/15bo8_venta_ph_mat...   \n",
       "1       NaN  http://www.properati.com.ar/15bob_venta_depart...   \n",
       "2       NaN  http://www.properati.com.ar/15bod_venta_depart...   \n",
       "3       NaN  http://www.properati.com.ar/15boh_venta_ph_lin...   \n",
       "4       NaN  http://www.properati.com.ar/15bok_venta_depart...   \n",
       "\n",
       "                                         description  \\\n",
       "0  2 AMBIENTES TIPO CASA PLANTA BAJA POR PASILLO,...   \n",
       "1  Venta de departamento en dÃ©cimo piso al frent...   \n",
       "2  2 AMBIENTES 3ER PISO LATERAL LIVING COMEDOR AM...   \n",
       "3  PH 3 ambientes con patio. Hay 3 deptos en lote...   \n",
       "4  DEPARTAMENTO CON FANTÃSTICA ILUMINACIÃN NATU...   \n",
       "\n",
       "                                               title  \\\n",
       "0                 2 AMB TIPO CASA SIN EXPENSAS EN PB   \n",
       "1  VENTA Depto 2 dorm. a estrenar 7 e/ 36 y 37   ...   \n",
       "2           2 AMB 3ER PISO CON ASCENSOR APTO CREDITO   \n",
       "3                       PH 3 amb. cfte. reciclado      \n",
       "4  DEPTO 2 AMB AL CONTRAFRENTE ZONA CENTRO/PLAZA ...   \n",
       "\n",
       "                                     image_thumbnail  surface_total_clean  \n",
       "0  https://thumbs4.properati.com/8/BluUYiHJLhgIIK...                   55  \n",
       "1  https://thumbs4.properati.com/7/ikpVBu2ztHA7jv...                  NaN  \n",
       "2  https://thumbs4.properati.com/5/SXKr34F_IwG3W_...                   55  \n",
       "3  https://thumbs4.properati.com/3/DgIfX-85Mog5SP...                  NaN  \n",
       "4  https://thumbs4.properati.com/5/xrRqlNcSI_vs-f...                   35  \n",
       "\n",
       "[5 rows x 26 columns]"
      ]
     },
     "execution_count": 89,
     "metadata": {},
     "output_type": "execute_result"
    }
   ],
   "source": [
    "nuevadata.head()"
   ]
  },
  {
   "cell_type": "code",
   "execution_count": 135,
   "metadata": {},
   "outputs": [],
   "source": [
    "df_final = nuevadata.dropna(subset=['price_aprox_usd', 'surface_total_clean'])  \n",
    "\n",
    "# eliminamos las filas con nulos de los campos seleccionados "
   ]
  },
  {
   "cell_type": "code",
   "execution_count": 139,
   "metadata": {},
   "outputs": [],
   "source": [
    "df_final = df_final[df_final.surface_total_clean != 'BORRAR']   \n",
    "\n",
    "#eliminamos los valores para surface_total_in_m2 < surface_covered_in_m2 "
   ]
  },
  {
   "cell_type": "code",
   "execution_count": 140,
   "metadata": {},
   "outputs": [],
   "source": [
    "df_final = df_final[df_final.surface_total_clean > 15 ]  \n",
    "\n",
    "#eliminamos los valores para surface_total_clean < 15"
   ]
  },
  {
   "cell_type": "code",
   "execution_count": 146,
   "metadata": {},
   "outputs": [
    {
     "name": "stdout",
     "output_type": "stream",
     "text": [
      "Cantidad de filas en el DataFrame original: 121220\n",
      "Cantidad de filas en el DataFrame final: 91665\n",
      "Porcentaje dropeado: % 24.0\n"
     ]
    }
   ],
   "source": [
    "print('Cantidad de filas en el DataFrame original: ' + str(data.shape[0]))\n",
    "print('Cantidad de filas en el DataFrame final: ' + str(df_final.shape[0]))\n",
    "print('Porcentaje dropeado: % ' + str(100 - round((df_final.shape[0] / data.shape[0] * 100), ndigits= 0)))"
   ]
  },
  {
   "cell_type": "code",
   "execution_count": 148,
   "metadata": {},
   "outputs": [],
   "source": [
    "df_final['surface_total_clean'] = df_final['surface_total_clean'].astype(int)"
   ]
  },
  {
   "cell_type": "code",
   "execution_count": 149,
   "metadata": {},
   "outputs": [
    {
     "name": "stdout",
     "output_type": "stream",
     "text": [
      "(121220, 26)\n",
      "(121220, 26)\n",
      "(91665, 26)\n"
     ]
    }
   ],
   "source": [
    "print(df.shape)     # DATAFRAME ORIGINAL\n",
    "\n",
    "print(nuevadata.shape)    #DATAFRAME sin dropear\n",
    "\n",
    "print(df_final.shape)    #DATAFRAME FINAL\n"
   ]
  }
 ],
 "metadata": {
  "kernelspec": {
   "display_name": "Python 3",
   "language": "python",
   "name": "python3"
  },
  "language_info": {
   "codemirror_mode": {
    "name": "ipython",
    "version": 3
   },
   "file_extension": ".py",
   "mimetype": "text/x-python",
   "name": "python",
   "nbconvert_exporter": "python",
   "pygments_lexer": "ipython3",
   "version": "3.8.5"
  }
 },
 "nbformat": 4,
 "nbformat_minor": 4
}
